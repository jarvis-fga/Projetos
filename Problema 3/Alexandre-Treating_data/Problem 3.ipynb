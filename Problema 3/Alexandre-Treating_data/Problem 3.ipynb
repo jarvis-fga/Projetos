{
 "cells": [
  {
   "cell_type": "markdown",
   "metadata": {},
   "source": [
    "## Descrição do Problema"
   ]
  },
  {
   "cell_type": "markdown",
   "metadata": {},
   "source": [
    "### Tratamento dos dados"
   ]
  },
  {
   "cell_type": "code",
   "execution_count": 9,
   "metadata": {
    "collapsed": true
   },
   "outputs": [],
   "source": [
    "# Aux Functions\n",
    "\n",
    "def labels_dictionary():\n",
    "    file = open('data/communities.names_edit.txt', 'r')\n",
    "    labels = dict()\n",
    "    for index, line in enumerate(file):\n",
    "        line = line[:-1]\n",
    "        labels[index] = line # Allow to read the label by the index\n",
    "        labels[line] = index # Allow to read the index by the label\n",
    "    return labels  \n",
    "\n",
    "def get_labels(labels_dic):\n",
    "    labels = []\n",
    "    for i in range (128):\n",
    "        labels.append(labels_dic[i])\n",
    "    return labels\n",
    "\n",
    "def columns_to_remove(communities, missing_data_percentage):\n",
    "    columns = []\n",
    "    incomplete_values = communities.isnull().sum()\n",
    "    incomplete_percent = (incomplete_values/communities.shape[0]*100)\n",
    "    for i in range (communities.shape[1]):\n",
    "        if incomplete_percent[i] > missing_data_percentage:\n",
    "            columns.append(i)\n",
    "    return columns\n",
    "\n",
    "\n",
    "\n",
    "\n",
    "# incomplete_values = communities.isnull().sum()\n",
    "# incomplete_values_percent = (incomplete_values/communities.shape[0]*100)\n",
    "# print(\"Percent of Incomple values\")\n",
    "# print(list(map(lambda x: x>75, incomplete_values_percent)))"
   ]
  },
  {
   "cell_type": "code",
   "execution_count": 10,
   "metadata": {
    "scrolled": true
   },
   "outputs": [
    {
     "name": "stdout",
     "output_type": "stream",
     "text": [
      "More than 75% incomplete:\n",
      "['LemasSwornFT numeric', 'LemasSwFTPerPop numeric', 'LemasSwFTFieldOps numeric', 'LemasSwFTFieldPerPop numeric', 'LemasTotalReq numeric', 'LemasTotReqPerPop numeric', 'PolicReqPerOffic numeric', 'PolicPerPop numeric', 'RacialMatchCommPol numeric', 'PctPolicWhite numeric', 'PctPolicBlack numeric', 'PctPolicHisp numeric', 'PctPolicAsian numeric', 'PctPolicMinor numeric', 'OfficAssgnDrugUnits numeric', 'NumKindsDrugsSeiz numeric', 'PolicAveOTWorked numeric', 'PolicCars numeric', 'PolicOperBudg numeric', 'LemasPctPolicOnPatr numeric', 'LemasGangUnitDeploy numeric', 'PolicBudgPerPop numeric']\n",
      "----\n",
      "\n",
      "X new shape:  (1994, 104) \n",
      "\n"
     ]
    }
   ],
   "source": [
    "import pandas\n",
    "import numpy\n",
    "\n",
    "labels_dic = labels_dictionary()\n",
    "communities = pandas.read_csv('data/communities.data.txt', sep=\",\", names=get_labels(labels_dic), encoding='utf-8')\n",
    "\n",
    "\n",
    "communities = communities.replace('?', numpy.NaN)\n",
    "col_to_remove = columns_to_remove(communities, 75) # Columns with more than 75% of missing data are removed\n",
    "\n",
    "\n",
    "print(\"More than 75% incomplete:\")\n",
    "list_of_incomplete = list(map(lambda x: labels_dic[x], col_to_remove))\n",
    "print(list_of_incomplete)\n",
    "print(\"----\\n\")\n",
    "\n",
    "X = communities.iloc[:, 0:127] # OR .drop(labels='ViolentCrimesPerPop numeric', axis=1)\n",
    "X = X.drop(labels=list_of_incomplete, axis=1)\n",
    "X = X.drop(labels=['communityname string'], axis=1) #Temporary, change later\n",
    "print(\"X new shape: \", X.shape, \"\\n\")\n",
    "Y = communities.iloc[:, [127]]\n",
    "\n",
    "\n",
    "# df = pandas.DataFrame(X, columns=list(set(X['communityname string'])) )\n",
    "# dummies = pandas.get_dummies(df)\n",
    "# X.join(dummies)\n",
    "# print(X.shape)\n",
    "\n",
    "# X_val = X.values\n",
    "# Y_val = Y.values\n",
    "\n",
    "#print(X_val)\n",
    "#print(Y_val)"
   ]
  },
  {
   "cell_type": "markdown",
   "metadata": {},
   "source": [
    "### * Removing all Rows With Missing Values"
   ]
  },
  {
   "cell_type": "code",
   "execution_count": 11,
   "metadata": {},
   "outputs": [
    {
     "name": "stdout",
     "output_type": "stream",
     "text": [
      "0.652390305044\n",
      "0.0188594742411\n"
     ]
    }
   ],
   "source": [
    "X_rem = X\n",
    "X_rem.dropna(inplace=True, axis='columns')\n",
    "X_rem = X_rem.values\n",
    "Y_rem = Y.values\n",
    "#print(X_rem.shape)\n",
    "\n",
    "\n",
    "from sklearn import linear_model\n",
    "lm = linear_model.LinearRegression()\n",
    "\n",
    "from sklearn.cross_validation import  cross_val_predict\n",
    "from sklearn import metrics\n",
    "\n",
    "predictions = cross_val_predict(lm, X_rem, Y_rem, cv=6)\n",
    "\n",
    "r2_score = metrics.r2_score(Y_rem, predictions)\n",
    "print(r2_score)\n",
    "\n",
    "mean_squared_error = metrics.mean_squared_error(Y_rem, predictions)\n",
    "print(mean_squared_error)"
   ]
  },
  {
   "cell_type": "markdown",
   "metadata": {},
   "source": [
    "###  * Imputing Missing Values"
   ]
  },
  {
   "cell_type": "code",
   "execution_count": 12,
   "metadata": {},
   "outputs": [
    {
     "name": "stdout",
     "output_type": "stream",
     "text": [
      "0.652390305044\n",
      "0.0188594742411\n"
     ]
    }
   ],
   "source": [
    "from pandas import read_csv\n",
    "from sklearn.preprocessing import Imputer\n",
    "\n",
    "X_val = X.values\n",
    "Y_val = Y.values\n",
    "imputer = Imputer(missing_values='NaN', strategy='mean', axis=0)\n",
    "X_imp = imputer.fit_transform(X_val)\n",
    "\n",
    "\n",
    "from sklearn import linear_model\n",
    "lm = linear_model.LinearRegression()\n",
    "\n",
    "from sklearn.cross_validation import cross_val_score, cross_val_predict\n",
    "from sklearn import metrics\n",
    "\n",
    "\n",
    "predictions = cross_val_predict(lm, X_val, Y_val, cv=6)\n",
    "\n",
    "r2_score = metrics.r2_score(Y_val, predictions)\n",
    "print(r2_score)\n",
    "\n",
    "mean_squared_error = metrics.mean_squared_error(Y_val, predictions)\n",
    "print(mean_squared_error)"
   ]
  },
  {
   "cell_type": "markdown",
   "metadata": {},
   "source": [
    "###  * Using PCA to remove features"
   ]
  },
  {
   "cell_type": "code",
   "execution_count": 13,
   "metadata": {
    "scrolled": true
   },
   "outputs": [
    {
     "name": "stdout",
     "output_type": "stream",
     "text": [
      "0.439494977767\n",
      "0.0304100552493\n"
     ]
    }
   ],
   "source": [
    "from sklearn.preprocessing import Imputer\n",
    "from sklearn.cross_validation import cross_val_score, cross_val_predict\n",
    "from sklearn import metrics\n",
    "from sklearn import linear_model\n",
    "from sklearn.decomposition import KernelPCA\n",
    "\n",
    "X_val = X.values\n",
    "Y_val = Y.values\n",
    "imputer = Imputer(missing_values='NaN', strategy='mean', axis=0)\n",
    "X_imp = imputer.fit_transform(X_val)\n",
    "\n",
    "\n",
    "#kpca = KernelPCA(n_components=50, kernel='linear')\n",
    "kpca = KernelPCA(n_components=50, kernel='poly', degree=3)\n",
    "X_KPCA = kpca.fit_transform(X_val)\n",
    "\n",
    "\n",
    "\n",
    "lm = linear_model.LinearRegression()\n",
    "\n",
    "\n",
    "predictions = cross_val_predict(lm, X_KPCA, Y_val, cv=6)\n",
    "\n",
    "r2_score = metrics.r2_score(Y_val, predictions)\n",
    "print(r2_score)\n",
    "\n",
    "mean_squared_error = metrics.mean_squared_error(Y_val, predictions)\n",
    "print(mean_squared_error)"
   ]
  },
  {
   "cell_type": "code",
   "execution_count": null,
   "metadata": {},
   "outputs": [],
   "source": []
  },
  {
   "cell_type": "code",
   "execution_count": null,
   "metadata": {
    "collapsed": true
   },
   "outputs": [],
   "source": []
  }
 ],
 "metadata": {
  "kernelspec": {
   "display_name": "Python 3",
   "language": "python",
   "name": "python3"
  },
  "language_info": {
   "codemirror_mode": {
    "name": "ipython",
    "version": 3
   },
   "file_extension": ".py",
   "mimetype": "text/x-python",
   "name": "python",
   "nbconvert_exporter": "python",
   "pygments_lexer": "ipython3",
   "version": "3.6.2"
  }
 },
 "nbformat": 4,
 "nbformat_minor": 2
}
