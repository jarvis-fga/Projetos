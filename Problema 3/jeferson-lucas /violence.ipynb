{
 "cells": [
  {
   "cell_type": "code",
   "execution_count": null,
   "metadata": {},
   "outputs": [],
   "source": [
    "import pandas\n",
    "\n",
    "def main():\n",
    "    labels = read_labels()\n",
    "    communities = pandas.read_csv('data/communities_data.txt', sep=\",\", names=labels)\n",
    "    target = communities['ViolentCrimesPerPop numeric']\n",
    "    data = communities.drop('ViolentCrimesPerPop numeric', axis=1)\n",
    "    #print(labels)\n",
    "    #print(target)\n",
    "    #print(data)\n",
    "    \n",
    "def read_labels():\n",
    "    labels = []\n",
    "    file = open('data/features_names.txt', 'r')\n",
    "    for line in file:\n",
    "        line = line[:-1]\n",
    "        labels.append(line)\n",
    "    return labels\n",
    "\n",
    "main()"
   ]
  }
 ],
 "metadata": {
  "kernelspec": {
   "display_name": "Python 3",
   "language": "python",
   "name": "python3"
  },
  "language_info": {
   "codemirror_mode": {
    "name": "ipython",
    "version": 3
   },
   "file_extension": ".py",
   "mimetype": "text/x-python",
   "name": "python",
   "nbconvert_exporter": "python",
   "pygments_lexer": "ipython3",
   "version": "3.6.2"
  }
 },
 "nbformat": 4,
 "nbformat_minor": 2
}
