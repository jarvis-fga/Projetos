{
 "cells": [
  {
   "cell_type": "code",
   "execution_count": null,
   "metadata": {},
   "outputs": [],
   "source": [
    "import pandas\n",
    "import numpy\n",
    "\n",
    "def main():\n",
    "    labels = read_labels()\n",
    "    communities = pandas.read_csv('data/communities_data.txt', sep=\",\", names=labels)\n",
    "    target = communities['ViolentCrimesPerPop numeric']\n",
    "    data = communities #.drop('ViolentCrimesPerPop numeric', axis=1)\n",
    "    \n",
    "    missing_data = count_missing_data(data, labels)\n",
    "    print(len(missing_data))\n",
    "    \n",
    "    features_to_remove = find_incomplete_features(labels, missing_data, data)\n",
    "    features_to_remove.append('communityname string')\n",
    "    \n",
    "    data_with_feature_complete = data.drop(features_to_remove, axis=1)\n",
    "    print(data_with_feature_complete)\n",
    "    data_with_feature_complete.to_csv('data/data_with_feature_complete.csv', index=False, encoding='utf-8')\n",
    "    \n",
    "    \n",
    "def find_incomplete_features(labels, missing_data, data):\n",
    "    #labels = labels[:-1] # Exclude 'ViolentCrimesPerPop numeric' feature\n",
    "    missing_features = []\n",
    "    for x in range(len(labels)):\n",
    "        if missing_data[x] > 0:\n",
    "            missing_features.append(labels[x])\n",
    "    return missing_features\n",
    "            \n",
    "\n",
    "def count_missing_data(data, labels):\n",
    "    #labels = labels[:-1] # Exclude 'ViolentCrimesPerPop numeric' feature\n",
    "    missing_data = []\n",
    "    \n",
    "    for label in labels:\n",
    "        count = 0\n",
    "        for x in range(0, 1994):\n",
    "            if data[label][x] == '?':\n",
    "                count = count + 1\n",
    "        missing_data.append(count)\n",
    "    print(missing_data)\n",
    "    return missing_data\n",
    "            \n",
    "\n",
    "def read_labels():\n",
    "    labels = []\n",
    "    file = open('data/features_names.txt', 'r')\n",
    "    for line in file:\n",
    "        line = line[:-1]\n",
    "        labels.append(line)\n",
    "    return labels\n",
    "\n",
    "main()"
   ]
  },
  {
   "cell_type": "code",
   "execution_count": null,
   "metadata": {},
   "outputs": [],
   "source": [
    "import pandas\n",
    "import numpy\n",
    "\n",
    "communities = pandas.read_csv('data/data_with_feature_complete.csv', sep=\",\")\n",
    "target = communities['ViolentCrimesPerPop numeric']\n",
    "data = communities.drop('ViolentCrimesPerPop numeric', axis=1)"
   ]
  },
  {
   "cell_type": "code",
   "execution_count": 61,
   "metadata": {},
   "outputs": [
    {
     "name": "stdout",
     "output_type": "stream",
     "text": [
      "1794\n",
      "200\n",
      "1794\n",
      "200\n"
     ]
    }
   ],
   "source": [
    "X = data\n",
    "y = target\n",
    "\n",
    "# particionar dados em treino e teste\n",
    "from sklearn.cross_validation import train_test_split\n",
    "X_train, X_test, y_train, y_test = train_test_split(X, y, test_size = .1) # .5 metade dos dados para teste\n",
    "\n",
    "print(len(X_train))\n",
    "print(len(X_test))\n",
    "print(len(y_train))\n",
    "print(len(y_test))"
   ]
  },
  {
   "cell_type": "code",
   "execution_count": 62,
   "metadata": {},
   "outputs": [
    {
     "name": "stdout",
     "output_type": "stream",
     "text": [
      "Mean squared error: 0.02\n",
      "Variance score: 0.74\n"
     ]
    }
   ],
   "source": [
    "from sklearn import linear_model\n",
    "from sklearn.metrics import mean_squared_error \n",
    "from sklearn.metrics import r2_score\n",
    "\n",
    "# Create linear regression object\n",
    "regr = linear_model.LinearRegression()\n",
    "\n",
    "# Train the model using the training sets\n",
    "regr.fit(X_train, y_train)\n",
    "\n",
    "# Make predictions using the testing set\n",
    "y_pred = regr.predict(X_test)\n",
    "\n",
    "# The coefficients\n",
    "#print('Coefficients: \\n', regr.coef_)\n",
    "\n",
    "# The mean squared error\n",
    "print(\"Mean squared error: %.2f\" % mean_squared_error(y_test, y_pred))\n",
    "# Explained variance score: 1 is perfect prediction\n",
    "print('Variance score: %.2f' % r2_score(y_test, y_pred))"
   ]
  }
 ],
 "metadata": {
  "kernelspec": {
   "display_name": "Python 3",
   "language": "python",
   "name": "python3"
  },
  "language_info": {
   "codemirror_mode": {
    "name": "ipython",
    "version": 3
   },
   "file_extension": ".py",
   "mimetype": "text/x-python",
   "name": "python",
   "nbconvert_exporter": "python",
   "pygments_lexer": "ipython3",
   "version": "3.6.2"
  }
 },
 "nbformat": 4,
 "nbformat_minor": 2
}
