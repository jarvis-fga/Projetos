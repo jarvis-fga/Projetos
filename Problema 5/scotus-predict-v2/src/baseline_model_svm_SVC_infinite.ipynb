{
 "cells": [
  {
   "cell_type": "code",
   "execution_count": null,
   "metadata": {},
   "outputs": [],
   "source": [
    "%matplotlib inline\n",
    "\n",
    "# Imports\n",
    "import matplotlib.pyplot as plt\n",
    "import pandas\n",
    "import seaborn\n",
    "seaborn.set_style(\"darkgrid\")\n",
    "from sklearn import svm\n",
    "\n",
    "# Project imports\n",
    "from legacy_model import *"
   ]
  },
  {
   "cell_type": "code",
   "execution_count": null,
   "metadata": {},
   "outputs": [],
   "source": [
    "# Get raw data\n",
    "raw_data = get_raw_scdb_data(\"../data/input/SCDB_Legacy_01_justiceCentered_Citation.csv\")"
   ]
  },
  {
   "cell_type": "code",
   "execution_count": null,
   "metadata": {},
   "outputs": [],
   "source": [
    "# Reset output file timestamp per run\n",
    "file_timestamp = datetime.datetime.now().strftime(\"%Y%m%d%H%M%S\")\n",
    "\n",
    "# Reset seed per run\n",
    "numpy.random.seed(0)\n",
    "\n",
    "# Setup training time period\n",
    "min_training_years = 25\n",
    "baseline_window = 9999\n",
    "term_range = range(raw_data[\"term\"].min() + min_training_years,\n",
    "                   raw_data[\"term\"].max()+1)\n",
    "\n",
    "# Setup model\n",
    "m = None\n",
    "term_count = 0\n",
    "\n",
    "# Iterate over all terms\n",
    "for term in term_range:\n",
    "    # Setup train and test periods\n",
    "    train_index = (raw_data.loc[:, \"term\"] < term).values\n",
    "    baseline_train_index = ((raw_data.loc[:, \"term\"] < term) & (raw_data.loc[:, \"term\"] >= (term-baseline_window))).values\n",
    "    test_index = (raw_data.loc[:, \"term\"] == term).values\n",
    "    \n",
    "    if test_index.sum() == 0:\n",
    "        continue\n",
    "    \n",
    "    # Fit the \"baseline\" model\n",
    "    d = svm.SVC()\n",
    "    d.fit(numpy.zeros_like(raw_data.loc[baseline_train_index, :]), \n",
    "          (raw_data.loc[baseline_train_index, \"justice_outcome_disposition\"]).astype(int))\n",
    "    \n",
    "    # Store baseline predictions\n",
    "    raw_data.loc[test_index, \"baseline_predicted\"] = d.predict(numpy.zeros_like(raw_data.loc[test_index, :]))"
   ]
  },
  {
   "cell_type": "markdown",
   "metadata": {},
   "source": [
    "### Justice Accuracy - Other/Affirm/Reverse"
   ]
  },
  {
   "cell_type": "code",
   "execution_count": null,
   "metadata": {},
   "outputs": [],
   "source": [
    "# Get index and outcomes\n",
    "evaluation_index = raw_data.loc[:, \"term\"].isin(term_range)\n",
    "target_actual = (raw_data.loc[evaluation_index, \"justice_outcome_disposition\"]).astype(int)\n",
    "target_baseline = raw_data.loc[evaluation_index, \"baseline_predicted\"].astype(int)\n",
    "raw_data.loc[evaluation_index, \"baseline_correct\"] = (target_actual == target_baseline).astype(int)\n",
    "\n",
    "# SVC model\n",
    "print(\"SVC model\")\n",
    "print(\"=\"*32)\n",
    "print(sklearn.metrics.classification_report(target_actual, target_baseline))\n",
    "print(sklearn.metrics.confusion_matrix(target_actual, target_baseline))\n",
    "print(sklearn.metrics.accuracy_score(target_actual, target_baseline))\n",
    "print(\"=\"*32)\n",
    "print(\"\")"
   ]
  },
  {
   "cell_type": "code",
   "execution_count": null,
   "metadata": {},
   "outputs": [],
   "source": [
    "# Plot by term\n",
    "baseline_correct_ts = raw_data.loc[evaluation_index, :].groupby(\"term\")[\"baseline_correct\"].mean()\n",
    "baseline_correct_ts.plot()"
   ]
  },
  {
   "cell_type": "markdown",
   "metadata": {},
   "source": [
    "### Justice Accuracy - Reverse/Not-Reverse"
   ]
  },
  {
   "cell_type": "code",
   "execution_count": null,
   "metadata": {},
   "outputs": [],
   "source": [
    "# Get index and outcomes\n",
    "evaluation_index = raw_data.loc[:, \"term\"].isin(term_range)\n",
    "reverse_target_actual = (raw_data.loc[evaluation_index, \"justice_outcome_disposition\"] > 0).astype(int)\n",
    "reverse_target_baseline = (raw_data.loc[evaluation_index, \"baseline_predicted\"] > 0).astype(int)\n",
    "raw_data.loc[evaluation_index, \"baseline_reverse_correct\"] = (reverse_target_actual == reverse_target_baseline).astype(int)\n",
    "\n",
    "# SVC model\n",
    "print(\"SVC model - Reverse\")\n",
    "print(\"=\"*32)\n",
    "print(sklearn.metrics.classification_report(reverse_target_actual, reverse_target_baseline))\n",
    "print(sklearn.metrics.confusion_matrix(reverse_target_actual, reverse_target_baseline))\n",
    "print(sklearn.metrics.accuracy_score(reverse_target_actual, reverse_target_baseline))\n",
    "print(\"=\"*32)\n",
    "print(\"\")"
   ]
  },
  {
   "cell_type": "code",
   "execution_count": null,
   "metadata": {},
   "outputs": [],
   "source": [
    "# Plot by term\n",
    "baseline_reverse_correct_ts = raw_data.loc[evaluation_index, :].groupby(\"term\")[\"baseline_reverse_correct\"].mean()\n",
    "baseline_reverse_correct_ts.plot()"
   ]
  },
  {
   "cell_type": "markdown",
   "metadata": {},
   "source": [
    "### Case Accuracy - Reverse/Not-Reverse"
   ]
  },
  {
   "cell_type": "code",
   "execution_count": null,
   "metadata": {},
   "outputs": [],
   "source": [
    "# Get actual and predicted case outcomes\n",
    "raw_data.loc[:, \"justice_outcome_disposition_reverse\"] = (raw_data.loc[evaluation_index, \"justice_outcome_disposition\"] > 0).astype(int)\n",
    "raw_data.loc[:, \"baseline_predicted_reverse\"] = (raw_data.loc[evaluation_index, \"baseline_predicted\"] > 0).astype(int)\n",
    "docket_baseline_predicted_reverse = (raw_data.loc[evaluation_index, :].groupby(\"docketId\")[\"baseline_predicted_reverse\"].mean() > 0.5).astype(int)\n",
    "docket_actual_reverse = (raw_data.loc[evaluation_index, :].groupby(\"docketId\")[\"case_outcome_disposition\"].mean() > 0.5).astype(int)\n",
    "\n",
    "\n",
    "# SVC model\n",
    "print(\"SVC model - Reverse\")\n",
    "print(\"=\"*32)\n",
    "print(sklearn.metrics.classification_report(docket_actual_reverse, docket_baseline_predicted_reverse))\n",
    "print(sklearn.metrics.confusion_matrix(docket_actual_reverse, docket_baseline_predicted_reverse))\n",
    "print(\"Accuracy:\")\n",
    "print(sklearn.metrics.accuracy_score(docket_actual_reverse, docket_baseline_predicted_reverse))\n",
    "print(\"=\"*32)\n",
    "print(\"\")"
   ]
  },
  {
   "cell_type": "code",
   "execution_count": null,
   "metadata": {},
   "outputs": [],
   "source": [
    "# Create merged docket dataframe\n",
    "docket_df = pandas.concat([docket_actual_reverse, docket_baseline_predicted_reverse], axis=1)\n",
    "docket_df.columns = [\"outcome_actual\", \"outcome_predicted\"]\n",
    "docket_df.loc[:, \"baseline_reverse_correct\"] = (docket_df[\"outcome_actual\"] == docket_df[\"outcome_predicted\"]).astype(int)\n",
    "docket_df = docket_df.join(raw_data.loc[evaluation_index, [\"docketId\", \"term\"]].groupby(\"docketId\")[\"term\"].mean())\n",
    "docket_df.head()"
   ]
  },
  {
   "cell_type": "code",
   "execution_count": null,
   "metadata": {},
   "outputs": [],
   "source": [
    "# Plot by term\n",
    "baseline_case_reverse_correct_ts = docket_df.groupby(\"term\")[\"baseline_reverse_correct\"].mean()\n",
    "baseline_case_reverse_correct_ts.plot()"
   ]
  },
  {
   "cell_type": "code",
   "execution_count": null,
   "metadata": {},
   "outputs": [],
   "source": [
    "# Output model results\n",
    "raw_data.to_csv(\"../data/output/raw_docket_justice_baseline_model_SVC_infinite.csv.gz\", compression=\"gzip\")"
   ]
  },
  {
   "cell_type": "code",
   "execution_count": null,
   "metadata": {
    "collapsed": true
   },
   "outputs": [],
   "source": []
  }
 ],
 "metadata": {
  "kernelspec": {
   "display_name": "Python 2",
   "language": "python",
   "name": "python2"
  },
  "language_info": {
   "codemirror_mode": {
    "name": "ipython",
    "version": 2
   },
   "file_extension": ".py",
   "mimetype": "text/x-python",
   "name": "python",
   "nbconvert_exporter": "python",
   "pygments_lexer": "ipython2",
   "version": "2.7.12"
  }
 },
 "nbformat": 4,
 "nbformat_minor": 1
}
