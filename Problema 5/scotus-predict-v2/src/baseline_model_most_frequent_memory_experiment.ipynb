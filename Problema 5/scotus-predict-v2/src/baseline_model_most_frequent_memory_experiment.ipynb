{
 "cells": [
  {
   "cell_type": "code",
   "execution_count": 1,
   "metadata": {
    "collapsed": true
   },
   "outputs": [],
   "source": [
    "%matplotlib inline\n",
    "\n",
    "# Imports\n",
    "import matplotlib.pyplot as plt\n",
    "import pandas\n",
    "import seaborn\n",
    "seaborn.set_style(\"darkgrid\")\n",
    "\n",
    "# Project imports\n",
    "from legacy_model import *"
   ]
  },
  {
   "cell_type": "code",
   "execution_count": 2,
   "metadata": {
    "collapsed": false
   },
   "outputs": [],
   "source": [
    "# Get raw data\n",
    "raw_data = get_raw_scdb_data(\"../data/input/SCDB_Legacy_01_justiceCentered_Citation.csv\")"
   ]
  },
  {
   "cell_type": "code",
   "execution_count": 16,
   "metadata": {
    "collapsed": false
   },
   "outputs": [
    {
     "name": "stdout",
     "output_type": "stream",
     "text": [
      "1816\n",
      "1817\n",
      "1818\n",
      "1819\n",
      "1820\n",
      "1821\n",
      "1822\n",
      "1823\n",
      "1824\n",
      "1825\n",
      "1826\n",
      "1827\n",
      "1828\n",
      "1829\n",
      "1830\n",
      "1831\n",
      "1832\n",
      "1833\n",
      "1834\n",
      "1835\n",
      "1836\n",
      "1837\n",
      "1838\n",
      "1839\n",
      "1840\n",
      "1841\n",
      "1842\n",
      "1843\n",
      "1844\n",
      "1845\n",
      "1846\n",
      "1847\n",
      "1848\n",
      "1849\n",
      "1850\n",
      "1851\n",
      "1852\n",
      "1853\n",
      "1854\n",
      "1855\n",
      "1856\n",
      "1857\n",
      "1858\n",
      "1859\n",
      "1860\n",
      "1861\n",
      "1862\n",
      "1863\n",
      "1864\n",
      "1865\n",
      "1866\n",
      "1867\n",
      "1868\n",
      "1869\n",
      "1870\n",
      "1871\n",
      "1872\n",
      "1873\n",
      "1874\n",
      "1875\n",
      "1876\n",
      "1877\n",
      "1878\n",
      "1879\n",
      "1880\n",
      "1881\n",
      "1882\n",
      "1883\n",
      "1884\n",
      "1885\n",
      "1886\n",
      "1887\n",
      "1888\n",
      "1889\n",
      "1890\n",
      "1891\n",
      "1892\n",
      "1893\n",
      "1894\n",
      "1895\n",
      "1896\n",
      "1897\n",
      "1898\n",
      "1899\n",
      "1900\n",
      "1901\n",
      "1902\n",
      "1903\n",
      "1904\n",
      "1905\n",
      "1906\n",
      "1907\n",
      "1908\n",
      "1909\n",
      "1910\n",
      "1911\n",
      "1912\n",
      "1913\n",
      "1914\n",
      "1915\n",
      "1916\n",
      "1917\n",
      "1918\n",
      "1919\n",
      "1920\n",
      "1921\n",
      "1922\n",
      "1923\n",
      "1924\n",
      "1925\n",
      "1926\n",
      "1927\n",
      "1928\n",
      "1929\n",
      "1930\n",
      "1931\n",
      "1932\n",
      "1933\n",
      "1934\n",
      "1935\n",
      "1936\n",
      "1937\n",
      "1938\n",
      "1939\n",
      "1940\n",
      "1941\n",
      "1942\n",
      "1943\n",
      "1944\n",
      "1945\n",
      "1946\n",
      "1947\n",
      "1948\n",
      "1949\n",
      "1950\n",
      "1951\n",
      "1952\n",
      "1953\n",
      "1954\n",
      "1955\n",
      "1956\n",
      "1957\n",
      "1958\n",
      "1959\n",
      "1960\n",
      "1961\n",
      "1962\n",
      "1963\n",
      "1964\n",
      "1965\n",
      "1966\n",
      "1967\n",
      "1968\n",
      "1969\n",
      "1970\n",
      "1971\n",
      "1972\n",
      "1973\n",
      "1974\n",
      "1975\n",
      "1976\n",
      "1977\n",
      "1978\n",
      "1979\n",
      "1980\n",
      "1981\n",
      "1982\n",
      "1983\n",
      "1984\n",
      "1985\n",
      "1986\n",
      "1987\n",
      "1988\n",
      "1989\n",
      "1990\n",
      "1991\n",
      "1992\n",
      "1993\n",
      "1994\n",
      "1995\n",
      "1996\n",
      "1997\n",
      "1998\n",
      "1999\n",
      "2000\n",
      "2001\n",
      "2002\n",
      "2003\n",
      "2004\n",
      "2005\n",
      "2006\n",
      "2007\n",
      "2008\n",
      "2009\n",
      "2010\n",
      "2011\n",
      "2012\n",
      "2013\n",
      "2014\n"
     ]
    }
   ],
   "source": [
    "# Reset output file timestamp per run\n",
    "file_timestamp = datetime.datetime.now().strftime(\"%Y%m%d%H%M%S\")\n",
    "\n",
    "# Reset seed per run\n",
    "numpy.random.seed(0)\n",
    "\n",
    "# Setup training time period\n",
    "min_training_years = 25\n",
    "term_range = range(raw_data[\"term\"].min() + min_training_years,\n",
    "                   raw_data[\"term\"].max()+1)\n",
    "\n",
    "baseline_window_range = range(2, 50)\n",
    "for window in baseline_window_range:\n",
    "    raw_data.loc[:, \"baseline_{0}_predicted\".format(window)] = numpy.nan\n",
    "\n",
    "# Iterate over all terms\n",
    "for term in term_range:\n",
    "    print(term)\n",
    "    \n",
    "    # Outer loop constants and tests\n",
    "    test_index = (raw_data.loc[:, \"term\"] == term).values\n",
    "    if test_index.sum() == 0:\n",
    "            continue\n",
    "\n",
    "    # Iterate over window sizes\n",
    "    for baseline_window in baseline_window_range:\n",
    "        # Baseline training index\n",
    "        baseline_train_index = ((raw_data.loc[:, \"term\"] < term) & (raw_data.loc[:, \"term\"] >= (term-baseline_window))).values\n",
    "        \n",
    "        # Fit the \"baseline\" model\n",
    "        d = sklearn.dummy.DummyClassifier(strategy=\"most_frequent\")\n",
    "        d.fit(numpy.zeros_like(raw_data.loc[baseline_train_index, :]), \n",
    "              (raw_data.loc[baseline_train_index, \"justice_outcome_disposition\"]).astype(int))\n",
    "\n",
    "        # Store baseline predictions\n",
    "        raw_data.loc[test_index, \"baseline_{0}_predicted\".format(baseline_window)] = d.predict(numpy.zeros_like(raw_data.loc[test_index, :]))"
   ]
  },
  {
   "cell_type": "markdown",
   "metadata": {},
   "source": [
    "### Justice Accuracy - Reverse/Not-Reverse"
   ]
  },
  {
   "cell_type": "code",
   "execution_count": 17,
   "metadata": {
    "collapsed": false
   },
   "outputs": [
    {
     "data": {
      "text/plain": [
       "<matplotlib.axes._subplots.AxesSubplot at 0x7fe2785882e8>"
      ]
     },
     "execution_count": 17,
     "metadata": {},
     "output_type": "execute_result"
    },
    {
     "data": {
      "image/png": "[encoded data removed]",
      "text/plain": [
       "<matplotlib.figure.Figure at 0x7fe27f3ed908>"
      ]
     },
     "metadata": {},
     "output_type": "display_data"
    }
   ],
   "source": [
    "# Store data across all windows\n",
    "justice_window_accuracy_data = []\n",
    "\n",
    "# Iterate over all windows\n",
    "for window in baseline_window_range:\n",
    "    # Get index and outcomes\n",
    "    evaluation_index = raw_data.loc[:, \"term\"].isin(term_range)\n",
    "    reverse_target_actual = (raw_data.loc[evaluation_index, \"justice_outcome_disposition\"] > 0).astype(int)\n",
    "    reverse_target_baseline = (raw_data.loc[evaluation_index, \"baseline_{0}_predicted\".format(window)] > 0).astype(int)\n",
    "    \n",
    "    # Append to dataset\n",
    "    justice_window_accuracy_data.append((window, sklearn.metrics.accuracy_score(reverse_target_actual, reverse_target_baseline)))\n",
    "    \n",
    "# Create dataframe\n",
    "justice_window_accuracy_df = pandas.DataFrame(justice_window_accuracy_data, columns=[\"M\", \"accuracy\"])\n",
    "justice_window_accuracy_df.set_index(justice_window_accuracy_df[\"M\"], inplace=True)\n",
    "del justice_window_accuracy_df[\"M\"]\n",
    "justice_window_accuracy_df.plot()"
   ]
  },
  {
   "cell_type": "markdown",
   "metadata": {},
   "source": [
    "### Case Accuracy - Reverse/Not-Reverse"
   ]
  },
  {
   "cell_type": "code",
   "execution_count": 20,
   "metadata": {
    "collapsed": false
   },
   "outputs": [
    {
     "data": {
      "text/plain": [
       "<matplotlib.axes._subplots.AxesSubplot at 0x7fe277eed278>"
      ]
     },
     "execution_count": 20,
     "metadata": {},
     "output_type": "execute_result"
    },
    {
     "data": {
      "image/png": "[encoded data removed]",
      "text/plain": [
       "<matplotlib.figure.Figure at 0x7fe27f5e0f60>"
      ]
     },
     "metadata": {},
     "output_type": "display_data"
    }
   ],
   "source": [
    "# Store data across all windows\n",
    "case_window_accuracy_data = []\n",
    "\n",
    "# Outer loop\n",
    "raw_data.loc[:, \"justice_outcome_disposition_reverse\"] = (raw_data.loc[evaluation_index, \"justice_outcome_disposition\"] > 0).astype(int)\n",
    "docket_actual_reverse = (raw_data.loc[evaluation_index, :].groupby(\"docketId\")[\"case_outcome_disposition\"].mean() > 0.5).astype(int)\n",
    "\n",
    "    \n",
    "# Iterate over all windows\n",
    "for window in baseline_window_range:\n",
    "    # Get index and outcomes\n",
    "    raw_data.loc[:, \"baseline_predicted_reverse\"] = (raw_data.loc[evaluation_index, \"baseline_{0}_predicted\".format(window)] > 0).astype(int)\n",
    "    docket_baseline_predicted_reverse = (raw_data.loc[evaluation_index, :].groupby(\"docketId\")[\"baseline_predicted_reverse\"].mean() > 0.5).astype(int)\n",
    "\n",
    "    \n",
    "    # Append to dataset\n",
    "    case_window_accuracy_data.append((window, sklearn.metrics.accuracy_score(docket_actual_reverse, docket_baseline_predicted_reverse)))\n",
    "    \n",
    "# Create dataframe\n",
    "case_window_accuracy_df = pandas.DataFrame(case_window_accuracy_data, columns=[\"M\", \"accuracy\"])\n",
    "case_window_accuracy_df.set_index(case_window_accuracy_df[\"M\"], inplace=True)\n",
    "del case_window_accuracy_df[\"M\"]\n",
    "case_window_accuracy_df.plot()"
   ]
  },
  {
   "cell_type": "code",
   "execution_count": 22,
   "metadata": {
    "collapsed": false
   },
   "outputs": [],
   "source": [
    "# Output model results\n",
    "raw_data.to_csv(\"../data/output/raw_docket_justice_baseline_model_most_frequent_memory_experiment.csv.gz\", compression=\"gzip\")"
   ]
  },
  {
   "cell_type": "code",
   "execution_count": null,
   "metadata": {
    "collapsed": true
   },
   "outputs": [],
   "source": []
  }
 ],
 "metadata": {
  "kernelspec": {
   "display_name": "Python 3",
   "language": "python",
   "name": "python3"
  },
  "language_info": {
   "codemirror_mode": {
    "name": "ipython",
    "version": 3
   },
   "file_extension": ".py",
   "mimetype": "text/x-python",
   "name": "python",
   "nbconvert_exporter": "python",
   "pygments_lexer": "ipython3",
   "version": "3.5.2"
  }
 },
 "nbformat": 4,
 "nbformat_minor": 1
}
