{
 "cells": [
  {
   "cell_type": "code",
   "execution_count": 1,
   "metadata": {},
   "outputs": [],
   "source": [
    "import pandas\n",
    "\n",
    "stars = pandas.read_csv('data/HTRU_2.csv', sep=\",\")\n",
    "star_class = stars['class']"
   ]
  },
  {
   "cell_type": "markdown",
   "metadata": {},
   "source": [
    "## Labels:\n",
    "1. mean_of_the_integrated_profile\n",
    "2. standard_deviation_of_the_integrated_profile\n",
    "3. excess_kurtosis_of_the_integrated_profile\n",
    "4. skewness_of_the_integrated_profile\n",
    "5. mean_of_the_DM-SNR_curve\n",
    "6. standard_deviation_of_the_DM-SNR_curve\n",
    "7. excess_kurtosis_of_the_DM-SNR_curve\n",
    "8. skewness_of_the_DM-SNR_curve\n",
    "9. class"
   ]
  }
 ],
 "metadata": {
  "kernelspec": {
   "display_name": "Python 3",
   "language": "python",
   "name": "python3"
  },
  "language_info": {
   "codemirror_mode": {
    "name": "ipython",
    "version": 3
   },
   "file_extension": ".py",
   "mimetype": "text/x-python",
   "name": "python",
   "nbconvert_exporter": "python",
   "pygments_lexer": "ipython3",
   "version": "3.6.2"
  }
 },
 "nbformat": 4,
 "nbformat_minor": 2
}
