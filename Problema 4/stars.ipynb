{
 "cells": [
  {
   "cell_type": "code",
   "execution_count": 4,
   "metadata": {},
   "outputs": [],
   "source": [
    "import pandas\n",
    "\n",
    "labels = [\n",
    "    \"mean_of_the_integrated_profile\",\n",
    "    \"standard_deviation_of_the_integrated_profile\",\n",
    "    \"excess_kurtosis_of_the_integrated_profile\",\n",
    "    \"skewness_of_the_integrated_profile\",\n",
    "    \"mean_of_the_DM-SNR_curve\",\n",
    "    \"standard_deviation_of_the_DM-SNR_curve\",\n",
    "    \"excess_kurtosis_of_the_DM-SNR_curve\",\n",
    "    \"skewness_of_the_DM-SNR_curve\",\n",
    "    \"class\"\n",
    "]\n",
    "\n",
    "stars_data = pandas.read_csv('data/HTRU_2.csv', sep=\",\", names=labels)\n",
    "stars_target = stars_data['class']"
   ]
  },
  {
   "cell_type": "markdown",
   "metadata": {},
   "source": [
    "## Labels:\n",
    "1. mean_of_the_integrated_profile\n",
    "2. standard_deviation_of_the_integrated_profile\n",
    "3. excess_kurtosis_of_the_integrated_profile\n",
    "4. skewness_of_the_integrated_profile\n",
    "5. mean_of_the_DM-SNR_curve\n",
    "6. standard_deviation_of_the_DM-SNR_curve\n",
    "7. excess_kurtosis_of_the_DM-SNR_curve\n",
    "8. skewness_of_the_DM-SNR_curve\n",
    "9. class"
   ]
  },
  {
   "cell_type": "markdown",
   "metadata": {},
   "source": [
    "## Missing Data?\n",
    "A base de dados não possui missig data porque seus campos são preenchidos com `numpy.float64` e os rótulos com `numpy.int64`"
   ]
  },
  {
   "cell_type": "code",
   "execution_count": 9,
   "metadata": {},
   "outputs": [
    {
     "name": "stdout",
     "output_type": "stream",
     "text": [
      "[17898, 17898, 17898, 17898, 17898, 17898, 17898, 17898, 17898]\n"
     ]
    }
   ],
   "source": [
    "import numpy\n",
    "\n",
    "def verify_missing_data(data, labels):\n",
    "    missing_data = []\n",
    "    \n",
    "    for label in labels:\n",
    "        count = 0\n",
    "        for x in range(0, len(data)):\n",
    "            if type(data[label][x]) is numpy.float64 or type(data[label][x]) is numpy.int64:\n",
    "                count = count + 1\n",
    "        missing_data.append(count)\n",
    "    print(missing_data)\n",
    "    \n",
    "verify_missing_data(stars_data, labels)"
   ]
  }
 ],
 "metadata": {
  "kernelspec": {
   "display_name": "Python 3",
   "language": "python",
   "name": "python3"
  },
  "language_info": {
   "codemirror_mode": {
    "name": "ipython",
    "version": 3
   },
   "file_extension": ".py",
   "mimetype": "text/x-python",
   "name": "python",
   "nbconvert_exporter": "python",
   "pygments_lexer": "ipython3",
   "version": "3.6.2"
  }
 },
 "nbformat": 4,
 "nbformat_minor": 2
}
