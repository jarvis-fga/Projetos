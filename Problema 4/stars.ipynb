{
 "cells": [
  {
   "cell_type": "code",
   "execution_count": 7,
   "metadata": {},
   "outputs": [],
   "source": [
    "import pandas\n",
    "\n",
    "features = [\n",
    "    \"mean_of_the_integrated_profile\",\n",
    "    \"standard_deviation_of_the_integrated_profile\",\n",
    "    \"excess_kurtosis_of_the_integrated_profile\",\n",
    "    \"skewness_of_the_integrated_profile\",\n",
    "    \"mean_of_the_DM-SNR_curve\",\n",
    "    \"standard_deviation_of_the_DM-SNR_curve\",\n",
    "    \"excess_kurtosis_of_the_DM-SNR_curve\",\n",
    "    \"skewness_of_the_DM-SNR_curve\",\n",
    "    \"class\"\n",
    "]\n",
    "\n",
    "data = pandas.read_csv('data/HTRU_2.csv', sep=\",\", names=features)\n",
    "labels = data['class']"
   ]
  },
  {
   "cell_type": "markdown",
   "metadata": {},
   "source": [
    "## Features:\n",
    "1. mean_of_the_integrated_profile\n",
    "2. standard_deviation_of_the_integrated_profile\n",
    "3. excess_kurtosis_of_the_integrated_profile\n",
    "4. skewness_of_the_integrated_profile\n",
    "5. mean_of_the_DM-SNR_curve\n",
    "6. standard_deviation_of_the_DM-SNR_curve\n",
    "7. excess_kurtosis_of_the_DM-SNR_curve\n",
    "8. skewness_of_the_DM-SNR_curve\n",
    "9. class\n",
    "\n",
    "## Labels\n",
    "* Pulsar: 1\n",
    "* Não Pulsar: 0"
   ]
  },
  {
   "cell_type": "markdown",
   "metadata": {},
   "source": [
    "## Missing Data?\n",
    "A base de dados não possui missig data porque seus campos são preenchidos com `numpy.float64` e os rótulos com `numpy.int64`"
   ]
  },
  {
   "cell_type": "code",
   "execution_count": 8,
   "metadata": {},
   "outputs": [
    {
     "name": "stdout",
     "output_type": "stream",
     "text": [
      "[17898, 17898, 17898, 17898, 17898, 17898, 17898, 17898, 17898]\n"
     ]
    }
   ],
   "source": [
    "import numpy\n",
    "\n",
    "def verify_missing_data(data, features):\n",
    "    missing_data = []\n",
    "    \n",
    "    for feature in features:\n",
    "        count = 0\n",
    "        for x in range(0, len(data)):\n",
    "            if type(data[feature][x]) is numpy.float64 or type(data[feature][x]) is numpy.int64:\n",
    "                count = count + 1\n",
    "        missing_data.append(count)\n",
    "    print(missing_data)\n",
    "    \n",
    "verify_missing_data(data, features)"
   ]
  },
  {
   "cell_type": "markdown",
   "metadata": {},
   "source": [
    "## Aplicando K-means e coletando métricas:\n",
    "\n",
    "seguin do exemplo disponível em:\n",
    "<http://scikit-learn.org/stable/auto_examples/cluster/plot_kmeans_digits.html#sphx-glr-auto-examples-cluster-plot-kmeans-digits-py>"
   ]
  },
  {
   "cell_type": "code",
   "execution_count": 9,
   "metadata": {},
   "outputs": [],
   "source": [
    "import numpy\n",
    "\n",
    "number_samples, number_features = data.shape\n",
    "number_labels = len(numpy.unique(labels))"
   ]
  },
  {
   "cell_type": "code",
   "execution_count": 12,
   "metadata": {},
   "outputs": [
    {
     "name": "stdout",
     "output_type": "stream",
     "text": [
      "__________________________________________________________________________________________\n",
      "init\t\ttime\tinertia\t\thomo\tcompl\tv-meas\tARI\tAMI\tsilhouette\n",
      "k-means++\t0.44s\t122775992\t0.031\t0.023\t0.026\t-0.078\t0.023\t0.599\n",
      "random   \t0.45s\t122775992\t0.031\t0.023\t0.026\t-0.078\t0.023\t0.594\n",
      "PCA-based\t0.07s\t122777789\t0.032\t0.023\t0.027\t-0.078\t0.023\t0.587\n",
      "__________________________________________________________________________________________\n"
     ]
    }
   ],
   "source": [
    "from time import time\n",
    "from sklearn import metrics\n",
    "from sklearn.cluster import KMeans\n",
    "from sklearn.decomposition import PCA\n",
    "\n",
    "sample_size = 1900 # Pesquisar melhor valor para esse parâmetro usado na métrica silhouette\n",
    "\n",
    "def bench_k_means(estimator, name, data):\n",
    "    initial_time = time()\n",
    "    estimator.fit(data)\n",
    "    execution_time = time() - initial_time\n",
    "    \n",
    "    # metrics\n",
    "    inertia = estimator.inertia_\n",
    "    homogeneity_score = metrics.homogeneity_score(labels, estimator.labels_)\n",
    "    completeness_score = metrics.completeness_score(labels, estimator.labels_)\n",
    "    v_measure_score = metrics.v_measure_score(labels, estimator.labels_)\n",
    "    adjusted_rand_score = metrics.adjusted_rand_score(labels, estimator.labels_)\n",
    "    adjusted_mutual_info_score = metrics.adjusted_mutual_info_score(labels,  estimator.labels_)\n",
    "    silhouette_score = metrics.silhouette_score(data, estimator.labels_, metric='euclidean', sample_size=sample_size)\n",
    "    \n",
    "    #show metrics\n",
    "    print('%-9s\\t%.2fs\\t%i\\t%.3f\\t%.3f\\t%.3f\\t%.3f\\t%.3f\\t%.3f'\n",
    "          % (name, execution_time, inertia, homogeneity_score,completeness_score, v_measure_score,\n",
    "             adjusted_rand_score, adjusted_mutual_info_score, silhouette_score))\n",
    "\n",
    "print(90 * '_')\n",
    "print('init\\t\\ttime\\tinertia\\t\\thomo\\tcompl\\tv-meas\\tARI\\tAMI\\tsilhouette')\n",
    "\n",
    "bench_k_means(KMeans(init='k-means++', n_clusters=number_labels, n_init=10),\n",
    "              name=\"k-means++\", data=data)\n",
    "\n",
    "bench_k_means(KMeans(init='random', n_clusters=number_labels, n_init=10),\n",
    "              name=\"random\", data=data)\n",
    "\n",
    "# in this case the seeding of the centers is deterministic, hence we run the\n",
    "# kmeans algorithm only once with n_init=1\n",
    "pca = PCA(n_components=number_labels).fit(data)\n",
    "bench_k_means(KMeans(init=pca.components_, n_clusters=number_labels, n_init=1),\n",
    "              name=\"PCA-based\", data=data)\n",
    "print(90 * '_')"
   ]
  },
  {
   "cell_type": "markdown",
   "metadata": {},
   "source": [
    "## Visualização\n",
    "\n",
    "\n",
    "* <font color=\"red\">Adicionar visualização dos clusters</font>\n",
    "\n",
    "Também disponível no exemplo:\n",
    "<http://scikit-learn.org/stable/auto_examples/cluster/plot_kmeans_digits.html#sphx-glr-auto-examples-cluster-plot-kmeans-digits-py>"
   ]
  }
 ],
 "metadata": {
  "kernelspec": {
   "display_name": "Python 3",
   "language": "python",
   "name": "python3"
  },
  "language_info": {
   "codemirror_mode": {
    "name": "ipython",
    "version": 3
   },
   "file_extension": ".py",
   "mimetype": "text/x-python",
   "name": "python",
   "nbconvert_exporter": "python",
   "pygments_lexer": "ipython3",
   "version": "3.6.2"
  }
 },
 "nbformat": 4,
 "nbformat_minor": 2
}
