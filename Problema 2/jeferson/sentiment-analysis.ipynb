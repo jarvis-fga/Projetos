{
 "cells": [
  {
   "cell_type": "markdown",
   "metadata": {},
   "source": [
    ">## 1. Análise de Sentimentos\n",
    "\n",
    "### 1. Objetivo\n",
    "O objetivo da análise de sentimentos e classificação de textos é determinar o valor subjetivo de um documento de texto. Aqui trabalharemos apenas com um classificaçao de polaridade em extremos, ou seja, classificar como positivo ou negativo o conteúdo de um documento de texto.\n",
    "#### 1. Problema\n",
    "O problema proposto para abordar a aprendizagem da análise de sentimentos é descrito a seguir:\n",
    "\n",
    "A empresa Amazon deseja obter um sistema inteligente para processar os comentários\n",
    "de seus clientes sobre os seus produtos, podendo classificar tais comentários dentre as\n",
    "categorias: positivo ou negativo. Para isso ela disponibiliza três bases de dados com\n",
    "sentenças rotuladas.\n",
    "#### 1. Os Dados\n",
    "Os dados estão organizados em sentença e rótulo, sendo 0 negativo e 1 positivo\n",
    "As bases são provenientes dos seguintes sites:\n",
    "* imdb.com\n",
    "* amazon.com\n",
    "* yelp.com\n"
   ]
  },
  {
   "cell_type": "markdown",
   "metadata": {},
   "source": [
    "### 1. Preparação\n",
    "\n",
    "Alguns módulos e bibliotecas devem ser instalados para a execução deste projeto. Para adiantar essa fase de preparação e concluí-la rapidamente sem mais preocupações, disponibiliza-se todo o ambiente utilizando ferramenta `Docker`. O Dockerfile pode ser visualizado abaixo:\n",
    "\n",
    "```Dockerfile\n",
    "FROM python:3 \n",
    "ENV PYTHONUNBUFFERED 1 \n",
    "\n",
    "RUN mkdir /code \n",
    "WORKDIR /code \n",
    "\n",
    "ADD . /code/\n",
    "RUN pip install scikit-learn pandas matplotlib scipy jupyter nltk\n",
    "\n",
    "RUN chmod +x boot.sh\n",
    "\n",
    "EXPOSE 8888\n",
    "CMD [\"/bin/sh\", \"./boot.sh\"]\n",
    "```\n",
    "\n",
    "Junto com o Dockerfile, apresenta-se também o arquivo boot.sh, que instala alguns módulos da biblioteca `nltk` e inicia a execução do `jupyter notebook`.\n",
    "```\n",
    "python << END\n",
    "import sys\n",
    "import nltk\n",
    "\n",
    "nltk.download('punkt')\n",
    "nltk.download('stopwords')\n",
    "END\n",
    "\n",
    "jupyter notebook --ip=0.0.0.0 --allow-root\n",
    "```\n",
    "\n",
    "Para utilizar isso, primeiro installe o docker e em seguida execute o seguinte comando no diretório do seu Dockerfile:\n",
    "```\n",
    "docker build -t machine-learn .\n",
    "```\n",
    "\n",
    "Para executar o container, use o comando a seguir substituindo o `~` pelo path onde fez o clone do repositório:\n",
    "```\n",
    "docker run --name machine-learn-container -p 8888:8888 -v ~/amazon/jeferson:/code machine-learn:latest /bin/sh ./boot.sh\n",
    "```"
   ]
  },
  {
   "cell_type": "markdown",
   "metadata": {},
   "source": [
    "### 1. Pré-processamento\n",
    "\n",
    "As três bases de dados do problema devem ser usadas em conjunto. A biblioteca pandas pode ser usada para facilitar esse processo. O código abaixo importa as bases e as concatena em uma base maior. Ao final, é gerado um arquivo com extensão `csv`, o qual será usado para os treinos e análises futuras."
   ]
  },
  {
   "cell_type": "code",
   "execution_count": null,
   "metadata": {},
   "outputs": [],
   "source": [
    "import pandas\n",
    "\n",
    "imdb = pandas.read_csv('data/imdb_labelled.txt', sep=\"\\t\", names=[\"sentences\", \"polarity\"])\n",
    "yelp = pandas.read_csv('data/yelp_labelled.txt', sep=\"\\t\", names=[\"sentences\", \"polarity\"])\n",
    "amazon = pandas.read_csv('data/amazon_cells_labelled.txt', sep=\"\\t\", names=[\"sentences\", \"polarity\"])\n",
    "\n",
    "big = pandas.DataFrame()\n",
    "big = big.append([imdb, yelp, amazon])\n",
    "\n",
    "big.to_csv('big.csv', index=False, encoding='utf-8')"
   ]
  },
  {
   "cell_type": "markdown",
   "metadata": {},
   "source": [
    "### 1. Tokenization\n",
    "\n",
    "Para a criação de um dicionário, precisa-se transformar o texto em tokens. Para auxiliar nessa tarefa pode-se utilizar uma biblioteca para processamento de linguagem natural, no exemplo abaixo, usa-se o `nltk`. O `nltk` é uma biblioteca Python de código aberto que realiza esta função."
   ]
  },
  {
   "cell_type": "code",
   "execution_count": null,
   "metadata": {},
   "outputs": [],
   "source": [
    "import nltk\n",
    "\n",
    "sentence = 'My test for nltk library!!'\n",
    "tokens = nltk.word_tokenize(sentence)\n",
    "\n",
    "print(tokens)"
   ]
  },
  {
   "cell_type": "markdown",
   "metadata": {},
   "source": [
    "### 1. Dicionário\n",
    "\n",
    "Para criar um dicionário, precisamos usar apenas a coluna que contém as sentenças no arquivo e ignorar a coluna da polaridade. Novamente, o `nltk` facilita esse processo. Obtidas as sentenças, usaremos o `nltk` para quebrá-las em tokens."
   ]
  },
  {
   "cell_type": "code",
   "execution_count": null,
   "metadata": {},
   "outputs": [],
   "source": [
    "import nltk\n",
    "\n",
    "sentences = big['sentences']\n",
    "all_sentences_strigs = sentences.str.lower()\n",
    "\n",
    "all_sentences_tokenized = [] #Has \n",
    "for sentence_string in all_sentences_strigs:\n",
    "    sentence_tokenized = nltk.word_tokenize(sentence_string)\n",
    "    all_sentences_tokenized.append(sentence_tokenized)\n",
    "\n",
    "all_tokens = [] # Has all sentences tokens\n",
    "for sentence_tokenized in all_sentences_tokenized:\n",
    "    all_tokens.extend(sentence_tokenized)\n",
    "    \n",
    "dictionary = set()\n",
    "dictionary.update(all_tokens)"
   ]
  },
  {
   "cell_type": "markdown",
   "metadata": {},
   "source": [
    "### 1. Word normalization\n",
    "\n",
    "Uma abordagem comum na análise de sentimentos é o uso de digramas ou trigramas, isso auxilia na classificação de sentenças. Dado um vetor de tokens onde já se foram eliminados as repetições e stop words, podemos criar digramas como segue:"
   ]
  },
  {
   "cell_type": "code",
   "execution_count": null,
   "metadata": {},
   "outputs": [],
   "source": [
    "dictionary_of_digrams = set()\n",
    "\n",
    "tokens_for_test = ['teste1', 'teste2', 'teste3', 'teste4']\n",
    "\n",
    "for x in range(len(tokens_for_test)):\n",
    "    if x + 1 < len(tokens_for_test):\n",
    "        digram = [tokens[x]+' '+tokens_for_test[x+1]]\n",
    "        dictionary_of_digrams.update(digram)\n",
    "        \n",
    "print(dictionary_of_digrams)"
   ]
  },
  {
   "cell_type": "markdown",
   "metadata": {},
   "source": [
    "### 1.  Vetorização\n",
    "Usa-se a vetorização para tornar possível o trabalho dos classificadores. Na vetorização do texto, cada palavra é tratada como uma característica"
   ]
  },
  {
   "cell_type": "code",
   "execution_count": null,
   "metadata": {},
   "outputs": [],
   "source": [
    "all_sentences_vetorized = []\n",
    "for sentence_tokenized in all_sentences_tokenized:\n",
    "    for token in sentence_tokenized:\n",
    "        if token in all_tokens_indexed:\n",
    "            tonken_position = all_tokens_indexed[token]\n",
    "            sentence_tokenized[tonken_position] += 1\n",
    "        all_sentences_vetorized.append(sentence_tokenized)\n",
    "        \n",
    "X = numpy.array(all_sentences_vetorized)"
   ]
  }
 ],
 "metadata": {
  "kernelspec": {
   "display_name": "Python 3",
   "language": "python",
   "name": "python3"
  },
  "language_info": {
   "codemirror_mode": {
    "name": "ipython",
    "version": 3
   },
   "file_extension": ".py",
   "mimetype": "text/x-python",
   "name": "python",
   "nbconvert_exporter": "python",
   "pygments_lexer": "ipython3",
   "version": "3.6.2"
  }
 },
 "nbformat": 4,
 "nbformat_minor": 2
}
