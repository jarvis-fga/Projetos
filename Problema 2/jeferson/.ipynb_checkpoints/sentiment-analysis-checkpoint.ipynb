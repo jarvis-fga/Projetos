{
 "cells": [
  {
   "cell_type": "markdown",
   "metadata": {},
   "source": [
    ">## 1. Análise de Sentimentos\n",
    "\n",
    "### 1. Objetivo\n",
    "Determinar o valor subjetivo de um documento de texto, ou seja, como positivo ou negativo é o conteúdo de um documento de texto.\n",
    "#### 1. Problema\n",
    "A empresa Amazon deseja obter um sistema inteligente para processar os comentários\n",
    "de seus clientes sobre os seus produtos, podendo classificar tais comentários dentre as\n",
    "categorias: positivo ou negativo. Para isso ela disponibiliza três bases de dados com\n",
    "sentenças rotuladas.\n",
    "#### 1. Os Dados\n",
    "Os dados estão organizados em sentença e rótulo, sendo 0 negativo e 1 positivo\n",
    "As bases são provenientes dos seguintes sites:\n",
    "* imdb.com\n",
    "* amazon.com\n",
    "* yelp.com\n"
   ]
  },
  {
   "cell_type": "markdown",
   "metadata": {},
   "source": [
    "### 1. Preparação\n",
    "\n",
    "```Dockerfile\n",
    "FROM python:3 \n",
    "ENV PYTHONUNBUFFERED 1 \n",
    "\n",
    "RUN mkdir /code \n",
    "WORKDIR /code \n",
    "\n",
    "ADD . /code/\n",
    "RUN pip install scikit-learn pandas matplotlib scipy jupyter nltk\n",
    "\n",
    "RUN chmod +x boot.sh\n",
    "\n",
    "EXPOSE 8888\n",
    "CMD [\"/bin/sh\", \"./boot.sh\"]\n",
    "```\n",
    "\n",
    "Boot.sh:\n",
    "```\n",
    "python << END\n",
    "import sys\n",
    "import nltk\n",
    "\n",
    "nltk.download('punkt')\n",
    "nltk.download('stopwords')\n",
    "END\n",
    "\n",
    "jupyter notebook --ip=0.0.0.0 --allow-root\n",
    "```\n",
    "\n",
    "Build:\n",
    "```\n",
    "docker build -t machine-learn .\n",
    "```\n",
    "\n",
    "Para executar, use o comando:\n",
    "```\n",
    "docker run --name machine-learn-container -p 8888:8888 -v ~/amazon/jeferson:/code machine-learn:latest /bin/sh ./boot.sh\n",
    "```"
   ]
  },
  {
   "cell_type": "markdown",
   "metadata": {},
   "source": [
    "### 1. Pré-processamento\n",
    "\n",
    "As três bases de dados do problema devem ser usadas em conjunto. A biblioteca pandas pode ser usada para facilitar esse processo. O código abaixo importa as bases e as concatena em uma base maior. Ao final, é gerado um arquivo com extensão `csv`, o qual será usado para os treinos e análises futuras."
   ]
  },
  {
   "cell_type": "code",
   "execution_count": null,
   "metadata": {},
   "outputs": [],
   "source": [
    "import pandas\n",
    "\n",
    "imdb = pandas.read_csv('data/imdb_labelled.txt', sep=\"\\t\", names=[\"sentences\", \"polarity\"])\n",
    "yelp = pandas.read_csv('data/yelp_labelled.txt', sep=\"\\t\", names=[\"sentences\", \"polarity\"])\n",
    "amazon = pandas.read_csv('data/amazon_cells_labelled.txt', sep=\"\\t\", names=[\"sentences\", \"polarity\"])\n",
    "\n",
    "big = pandas.DataFrame()\n",
    "big = big.append([imdb, yelp, amazon])\n",
    "\n",
    "big.to_csv('big.csv', index=False, encoding='utf-8')"
   ]
  },
  {
   "cell_type": "markdown",
   "metadata": {},
   "source": [
    "### 1. Tokenization\n",
    "\n",
    "Para a criação de um dicionário, precisa-se transformar o texto em tokens. Para auxiliar nessa tarefa pode-se utilizar uma biblioteca para processamento de linguagem natural, no exemplo abaixo, usa-se o `nltk`. O `nltk` é uma biblioteca Python de código aberto que realiza esta função."
   ]
  },
  {
   "cell_type": "code",
   "execution_count": null,
   "metadata": {},
   "outputs": [],
   "source": [
    "import nltk\n",
    "\n",
    "sentence = 'My test for nltk library!!'\n",
    "tokens = nltk.word_tokenize(sentence)\n",
    "\n",
    "print(tokens)"
   ]
  },
  {
   "cell_type": "markdown",
   "metadata": {},
   "source": [
    "### 1. Dicionário\n",
    "\n",
    "Para criar um dicionário, precisamos usar apenas a coluna que contém as sentenças no arquivo e ignorar a coluna da polaridade. Novamente, o `nltk` facilita esse processo. Obtidas as sentenças, usaremos o `nltk` para quebrá-las em tokens."
   ]
  },
  {
   "cell_type": "code",
   "execution_count": null,
   "metadata": {},
   "outputs": [],
   "source": [
    "import nltk\n",
    "\n",
    "sentences = big['sentences']\n",
    "sentences_strings = sentences.str.lower()\n",
    "\n",
    "sentences_tokens = [] # Has all sentences tokens\n",
    "for sentence_string in sentences_strings:\n",
    "\ttoken = nltk.word_tokenize(sentence_string)\n",
    "\tsentences_tokens.extend(token)\n",
    "    \n",
    "dictionary = set()\n",
    "dictionary.update(sentences_tokens)"
   ]
  },
  {
   "cell_type": "markdown",
   "metadata": {},
   "source": [
    "### 1.  Vetorização\n",
    "Usa-se a vetorização para tornar possível o trabalho dos classificadores. Na vetorização do texto, cada palavra é tratada como uma característica"
   ]
  },
  {
   "cell_type": "code",
   "execution_count": 28,
   "metadata": {},
   "outputs": [
    {
     "ename": "NameError",
     "evalue": "name 'palavras' is not defined",
     "output_type": "error",
     "traceback": [
      "\u001b[0;31m---------------------------------------------------------------------------\u001b[0m",
      "\u001b[0;31mNameError\u001b[0m                                 Traceback (most recent call last)",
      "\u001b[0;32m<ipython-input-28-41f377a7eec7>\u001b[0m in \u001b[0;36m<module>\u001b[0;34m()\u001b[0m\n\u001b[1;32m     12\u001b[0m     \u001b[0;32mreturn\u001b[0m \u001b[0mvetor\u001b[0m\u001b[0;34m\u001b[0m\u001b[0m\n\u001b[1;32m     13\u001b[0m \u001b[0;34m\u001b[0m\u001b[0m\n\u001b[0;32m---> 14\u001b[0;31m \u001b[0mvetoresdeTexto\u001b[0m \u001b[0;34m=\u001b[0m \u001b[0;34m[\u001b[0m\u001b[0mvetorizar_texto\u001b[0m\u001b[0;34m(\u001b[0m\u001b[0mtexto\u001b[0m\u001b[0;34m,\u001b[0m \u001b[0mmapa\u001b[0m\u001b[0;34m)\u001b[0m \u001b[0;32mfor\u001b[0m \u001b[0mtexto\u001b[0m \u001b[0;32min\u001b[0m \u001b[0mpalavras\u001b[0m\u001b[0;34m]\u001b[0m\u001b[0;34m\u001b[0m\u001b[0m\n\u001b[0m\u001b[1;32m     15\u001b[0m \u001b[0mX\u001b[0m \u001b[0;34m=\u001b[0m \u001b[0mnumpy\u001b[0m\u001b[0;34m.\u001b[0m\u001b[0marray\u001b[0m\u001b[0;34m(\u001b[0m\u001b[0mvetoresdeTexto\u001b[0m\u001b[0;34m)\u001b[0m\u001b[0;34m\u001b[0m\u001b[0m\n",
      "\u001b[0;31mNameError\u001b[0m: name 'palavras' is not defined"
     ]
    }
   ],
   "source": [
    "import numpy\n",
    "\n",
    "tuplas = zip(dicionario, range(len(dicionario)))\n",
    "mapa = {sentence_tokens:indice for sentence_tokens, indice in tuplas}\n",
    "\n",
    "def vetorizar_texto(texto, mapa):\n",
    "    vetor = [0] * len(mapa)\n",
    "    for sentence_tokens in texto:\n",
    "        if sentence_tokens in mapa:\n",
    "            posicao = mapa[sentence_tokens]\n",
    "            vetor[posicao] += 1\n",
    "    return vetor\n",
    "\n",
    "vetoresdeTexto = [vetorizar_texto(texto, mapa) for texto in sentences_tokens]\n",
    "X = numpy.array(vetoresdeTexto)"
   ]
  },
  {
   "cell_type": "markdown",
   "metadata": {},
   "source": [
    "### 1. Word normalization\n",
    "\n",
    "Uma abordagem comum na análise de sentimentos é o uso de digramas ou trigramas, isso auxilia na classificação de sentenças. Dado um vetor de tokens onde já se foram eliminados as repetições e stop words, podemos criar digramas como segue:"
   ]
  },
  {
   "cell_type": "code",
   "execution_count": 25,
   "metadata": {},
   "outputs": [
    {
     "name": "stdout",
     "output_type": "stream",
     "text": [
      "{'teste3 teste4', 'teste1 teste2', 'teste2 teste3'}\n"
     ]
    }
   ],
   "source": [
    "dictionary = set()\n",
    "\n",
    "tokens = ['teste1', 'teste2', 'teste3', 'teste4']\n",
    "\n",
    "for x in range(len(tokens)):\n",
    "    if x + 1 < len(tokens):\n",
    "        digram = [tokens[x]+' '+tokens[x+1]]\n",
    "        dictionary.update(digram)\n",
    "        \n",
    "print(dictionary)"
   ]
  },
  {
   "cell_type": "markdown",
   "metadata": {},
   "source": [
    ">## 1. Avaliação da Classificação"
   ]
  },
  {
   "cell_type": "markdown",
   "metadata": {},
   "source": [
    ">## 1. Referências"
   ]
  }
 ],
 "metadata": {
  "kernelspec": {
   "display_name": "Python 3",
   "language": "python",
   "name": "python3"
  },
  "language_info": {
   "codemirror_mode": {
    "name": "ipython",
    "version": 3
   },
   "file_extension": ".py",
   "mimetype": "text/x-python",
   "name": "python",
   "nbconvert_exporter": "python",
   "pygments_lexer": "ipython3",
   "version": "3.6.2"
  }
 },
 "nbformat": 4,
 "nbformat_minor": 2
}
