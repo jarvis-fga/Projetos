{
 "cells": [
  {
   "cell_type": "markdown",
   "metadata": {},
   "source": [
    "\n",
    "# 1. Descrição do Problema\n",
    "A empresa Amazon deseja obter um sistema inteligente para processar os comentários de seus clientes sobre os seus produtos, podendo classificar tais comentários dentre as categorias: positivo ou negativo. Para isso ela disponibiliza três bases de dados com sentenças rotuladas.\n",
    "\n",
    "\n",
    "# 2. Dados\n",
    "\n",
    "Os dados estão organizados em sentença e rótulo, sendo 0 negativo e 1 positivo As bases são provenientes dos seguintes sites:\n",
    "imdb.com\n",
    "amazon.com\n",
    "yelp.com"
   ]
  },
  {
   "cell_type": "markdown",
   "metadata": {},
   "source": [
    "# 3. Solução"
   ]
  },
  {
   "cell_type": "code",
   "execution_count": 20,
   "metadata": {
    "collapsed": true
   },
   "outputs": [],
   "source": [
    "import pandas as pd\n",
    "import numpy as np\n",
    "import matplotlib.pyplot as plt"
   ]
  },
  {
   "cell_type": "markdown",
   "metadata": {},
   "source": [
    "### Importing Data"
   ]
  },
  {
   "cell_type": "code",
   "execution_count": 21,
   "metadata": {},
   "outputs": [],
   "source": [
    "X_1 = pd.read_csv('amazon_cells_labelled.txt', sep=\"\\t\", usecols=[0], header=None)\n",
    "Y_1 = pd.read_csv('amazon_cells_labelled.txt', sep=\"\\t\", usecols=[1], header=None)\n",
    "\n",
    "X_2 = pd.read_csv('imdb_labelled.txt', sep=\"\\t\", usecols=[0], header=None)\n",
    "Y_2 = pd.read_csv('imdb_labelled.txt', sep=\"\\t\", usecols=[1], header=None)\n",
    "\n",
    "X_3 = pd.read_csv('yelp_labelled.txt', sep=\"\\t\", usecols=[0], header=None)\n",
    "Y_3 = pd.read_csv('yelp_labelled.txt', sep=\"\\t\", usecols=[1], header=None)\n",
    "\n",
    "\n",
    "X = np.concatenate((X_1.values[:,0], X_2.values[:,0]), axis=0)\n",
    "Y = np.concatenate((Y_1.values[:,0], Y_2.values[:,0]), axis=0)\n",
    "X = np.concatenate((X, X_3.values[:,0]), axis=0)\n",
    "Y = np.concatenate((Y, Y_3.values[:,0]), axis=0)"
   ]
  },
  {
   "cell_type": "markdown",
   "metadata": {},
   "source": [
    "### Creating Dictionary\n",
    "\n",
    "Na variável \"charsRemove\" são indicados os caracteres a serem removidos do input.\n",
    "\n",
    "Todas as palavras são transformadas para lower case e os caracteres indesejados são removidos.\n",
    "\n",
    "Na variável \"allWords\", são armazenadas todas as palavras a serem utilizadas."
   ]
  },
  {
   "cell_type": "code",
   "execution_count": 22,
   "metadata": {
    "collapsed": true
   },
   "outputs": [],
   "source": [
    "# Treating Sentences\n",
    "allSentences = []\n",
    "charsSplit = \"\\\\`*_{}[]()>#+-.!$,:&?\"\n",
    "charsRemove = \".,-_;\\\"\\'\"\n",
    "for x in X :\n",
    "    for c in charsSplit:\n",
    "        x = x.replace(c, ' '+ c +' ')\n",
    "    for c in charsRemove:\n",
    "        x = x.replace(c, '')\n",
    "    allSentences.append(x.lower() )"
   ]
  },
  {
   "cell_type": "code",
   "execution_count": 23,
   "metadata": {
    "collapsed": true
   },
   "outputs": [],
   "source": [
    "allWords = []\n",
    "for x in allSentences :\n",
    "    allWords.extend(x.split(\" \"))\n",
    "\n",
    "\n",
    "allWords = list(set(allWords))\n",
    "allWords.sort()"
   ]
  },
  {
   "cell_type": "markdown",
   "metadata": {},
   "source": [
    "### Removing Words / Features\n",
    "\n",
    "Aqui são removidas as palavras que aparecem menos de 52% como positivo ou como negativo."
   ]
  },
  {
   "cell_type": "code",
   "execution_count": 24,
   "metadata": {},
   "outputs": [],
   "source": [
    "positiveCount = [0] * len(allWords)\n",
    "negativeCount = [0] * len(allWords)\n",
    "\n",
    "sentenceNumber = 0\n",
    "for sentenceNumber, sentence in enumerate(allSentences) :\n",
    "    for word in sentence.split(\" \"):\n",
    "        wordIndex = allWords.index(word)\n",
    "        if (Y[sentenceNumber] == 1):\n",
    "            positiveCount[wordIndex] = positiveCount[wordIndex] + 1\n",
    "        else:\n",
    "            negativeCount[wordIndex] = negativeCount[wordIndex] + 1\n",
    "\n",
    "    \n",
    "allCount =  np.array(positiveCount) + np.array(negativeCount)\n",
    "probPositive = np.divide(positiveCount, allCount)\n",
    "\n",
    "len(allWords)\n",
    "allWordsFiltered =  np.array(allWords)\n",
    "\n",
    "len(allWordsFiltered)\n",
    "index_to_remove = []\n",
    "for index, prob in enumerate(probPositive):\n",
    "    if not((prob <= 0.48) or (prob >= 0.52)):\n",
    "        index_to_remove.append(index)\n",
    "        a = 1\n",
    "\n",
    "allWordsFiltered = np.delete(allWordsFiltered, index_to_remove)"
   ]
  },
  {
   "cell_type": "markdown",
   "metadata": {},
   "source": [
    "### Sentence to Vector\n",
    "\n",
    "Cria-se um vetor para cada sentença utilizando o dicionário elaborado como base.\n",
    "\n",
    "Este vetor dependerá das palavras contidas em cada uma das sentenças. Cada ocorrência de palavra acarretará em igualarmos o índice associado a 1 (testou-se também incrementando esse valor, mas não foi viável)."
   ]
  },
  {
   "cell_type": "code",
   "execution_count": 25,
   "metadata": {},
   "outputs": [],
   "source": [
    "allWords = np.array(allWordsFiltered).tolist()\n",
    "X = []\n",
    "for x in allSentences :\n",
    "    sentenceV = [0] * len(allWords)\n",
    "    words = x.split(\" \")\n",
    "    for w in words :\n",
    "        try:\n",
    "            index = allWords.index(w)\n",
    "            sentenceV[index] = 1 #sentenceV[index] + 1\n",
    "        except ValueError:\n",
    "            pass\n",
    "\n",
    "    X.append(sentenceV)"
   ]
  },
  {
   "cell_type": "markdown",
   "metadata": {
    "collapsed": true
   },
   "source": [
    "### Classifier Model\n",
    "\n",
    "Foram testados uma série de métodos para realizar a classificação dos comentários entre positivo e negativo. O melhor resultado obtido foi utilizando Ensemble, combinando:\n",
    "    - Multinomial Naive Bayes (peso 3)\n",
    "    - KNN (peso 2)\n",
    "    - Logistic Regression (peso 2)"
   ]
  },
  {
   "cell_type": "code",
   "execution_count": 34,
   "metadata": {},
   "outputs": [
    {
     "name": "stdout",
     "output_type": "stream",
     "text": [
      "Precisão:  0.852974803574\n"
     ]
    }
   ],
   "source": [
    "from sklearn.cross_validation import cross_val_score\n",
    "cross_val_k = 10\n",
    "\n",
    "\n",
    "from sklearn.naive_bayes import MultinomialNB\n",
    "clf1 = MultinomialNB()\n",
    "\n",
    "from sklearn.neighbors import KNeighborsClassifier\n",
    "clf2 = KNeighborsClassifier(n_neighbors=5)\n",
    "\n",
    "from sklearn.linear_model import LogisticRegression\n",
    "clf3 = LogisticRegression(penalty='l2', C=1.0)\n",
    "\n",
    "from sklearn.ensemble import VotingClassifier\n",
    "eclf = VotingClassifier(estimators=[('mnb', clf1), ('knn', clf2), ('lr', clf3)], voting='soft', weights=[3,2,2])\n",
    "\n",
    "accuracy = cross_val_score(eclf, X, Y, cv=cross_val_k, scoring='accuracy').mean()\n",
    "print('Precisão: ', accuracy)"
   ]
  },
  {
   "cell_type": "markdown",
   "metadata": {
    "collapsed": true
   },
   "source": [
    "#### Melhor resultado:\n",
    "\n",
    "A melhor classificação obtida consistituiu de utilizar três classificadores para decidir o resultado. Isso foi feito a partir de um esquema de votação, em que cada um deles possui um peso na decisão. Foi usado portanto um método de Ensemble.\n",
    "\n",
    "\n",
    "| Método                    | Peso       |\n",
    "| -------------             |--------------- |\n",
    "| MultinomialNB             | 3 |\n",
    "| KNeighborsClassifier      | 2 |\n",
    "| LogisticRegression        | 2 |\n",
    "\n",
    "Precisão: 0.852974803574\n",
    "\n",
    "\n",
    "#### Resultados Isolados:\n",
    "Avaliando cada um desses métodos isoladamente, foram obtidos os seguintes resultados:\n",
    "\n",
    "| Método                    | Precisão       |\n",
    "| -------------             |--------------- |\n",
    "| MultinomialNB             | 0.833680803593 |\n",
    "| KNeighborsClassifier      | 0.673224700191 |\n",
    "| LogisticRegression        | 0.828600463537 |\n"
   ]
  }
 ],
 "metadata": {
  "kernelspec": {
   "display_name": "Python 3",
   "language": "python",
   "name": "python3"
  },
  "language_info": {
   "codemirror_mode": {
    "name": "ipython",
    "version": 3
   },
   "file_extension": ".py",
   "mimetype": "text/x-python",
   "name": "python",
   "nbconvert_exporter": "python",
   "pygments_lexer": "ipython3",
   "version": "3.6.2"
  }
 },
 "nbformat": 4,
 "nbformat_minor": 2
}
