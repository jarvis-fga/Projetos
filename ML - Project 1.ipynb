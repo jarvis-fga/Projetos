{
 "cells": [
  {
   "cell_type": "markdown",
   "metadata": {},
   "source": [
    "\n",
    "# 1. Descrição do Problema\n",
    "O Green Peace, em colaboração com universidades dos três continentes do globo, realizou treze tipos de análise nos três principais oceanos a fim de tentar caracterizar o perfil físico-químico de suas águas. Eles acreditam que, dada uma amostra de água, podem identificar sua origem com base nestas treze informações.\n",
    "Considere-se contratado para este trabalho. Ou seja, seu grupo deve ajudar o Green Peace e desenvolver um sistema capaz de realizar a identificação da origem de uma amostra de água do mar.\n",
    "\n",
    "# 2. Dados\n",
    "\n",
    "Propriedade\n",
    "\n",
    "P1\tÁgua, gelo e vapor: Capacidade térmica e temperaturas de vaporização e fusão\n",
    "\n",
    "P2\tÁgua, gelo e vapor: Densidade da água\n",
    "\n",
    "P3\tÁgua, gelo e vapor: Densidade do gelo\n",
    "\n",
    "P4\tÁgua, gelo e vapor: Miscibilidade e condensação\n",
    "\n",
    "P5\tÁgua, gelo e vapor: Pressões de vapor da água\n",
    "\n",
    "P6\tÁgua, gelo e vapor: Compressibilidade\n",
    "\n",
    "P7\tÁgua, gelo e vapor: Ponto triplo\n",
    "\n",
    "P8\tÁgua, gelo e vapor: O efeito Mpemba\n",
    "\n",
    "P9\tÁgua, gelo e vapor: Gelo quente\n",
    "\n",
    "P10\tTensão superficial\n",
    "\n",
    "P11\tCondutividade elétrica\n",
    "\n",
    "P12\tA natureza bipolar da água: Adesão\n",
    "\n",
    "P13\tA natureza bipolar da água: Tensão superficial\n",
    "\t\n",
    "\tOrigem\n",
    "\tAtlântico\n",
    "\tPacífico\n",
    "\tÍndico\n",
    "    \n",
    "    \n"
   ]
  },
  {
   "cell_type": "markdown",
   "metadata": {},
   "source": [
    "# 3. Solução do Problema\n"
   ]
  },
  {
   "cell_type": "markdown",
   "metadata": {},
   "source": [
    "#### Importing libraries\n",
    "\n",
    "Important libraries:\n",
    "* NUMPY\n",
    "* SKLEARN\n",
    "* PANDAS\n",
    "* MATPLOTLIB"
   ]
  },
  {
   "cell_type": "code",
   "execution_count": 24,
   "metadata": {},
   "outputs": [],
   "source": [
    "import pandas as pd\n",
    "import numpy as np\n",
    "\n",
    "from sklearn.cross_validation import cross_val_score\n",
    "# Setting k for k-fold cross-validation = 10\n",
    "cross_val_k = 10"
   ]
  },
  {
   "cell_type": "markdown",
   "metadata": {},
   "source": [
    "### Importing data"
   ]
  },
  {
   "cell_type": "code",
   "execution_count": 54,
   "metadata": {},
   "outputs": [],
   "source": [
    "X = pd.read_csv('AM_PROBLEMA_ÁGUAOCEANOS_DADOS.txt', sep=\"\\t\", header=0, usecols=range(13), thousands=',')\n",
    "Y = pd.read_csv('AM_PROBLEMA_ÁGUAOCEANOS_DADOS.txt', sep=\"\\t\", header=0, usecols=[13], encoding='latin1')\n",
    "Y = Y.replace({'Pacfico': 0}, regex=True)\n",
    "Y = Y.replace({'Atlntico': 1}, regex=True)\n",
    "Y = Y.replace({'êndico': 2}, regex=True)\n",
    "\n",
    "X = X.values.astype(np.float64)\n",
    "Y = Y.values[:,0].astype(np.float64)\n",
    "\n",
    "# If necessary normalize and standardize the data attributes...\n",
    "from sklearn import preprocessing\n",
    "# standardize and normalize the data attributes\n",
    "X_NORMAL = preprocessing.normalize(X)\n",
    "X_STD = preprocessing.scale(X)\n",
    "X_NORMAL_STD = preprocessing.scale(X_NORMAL)\n"
   ]
  },
  {
   "cell_type": "markdown",
   "metadata": {},
   "source": [
    "## Manipulating the Data Matrix (features)"
   ]
  },
  {
   "cell_type": "markdown",
   "metadata": {},
   "source": [
    "### 1. SVD\n",
    "\n",
    "Computing SVD to check for linearly dependent features and/or dimensionality reduction. The new data matrix is given by X_EDITED."
   ]
  },
  {
   "cell_type": "code",
   "execution_count": 58,
   "metadata": {},
   "outputs": [
    {
     "name": "stdout",
     "output_type": "stream",
     "text": [
      "----------S--------\n",
      "[ 20483.74463883   4392.65419359   3514.80082409   1945.37192771\n",
      "   1791.76626242   1410.31660422   1208.09000094   1170.58281547\n",
      "   1023.68619966    903.02829022    695.71101102    270.68984817\n",
      "    206.47702501]\n"
     ]
    }
   ],
   "source": [
    "U, s, V = np.linalg.svd(X, full_matrices=True)\n",
    "\n",
    "#print(\"---------U---------\")\n",
    "#print(U)\n",
    "print(\"----------S--------\")\n",
    "print(s)\n",
    "#print(\"----------V--------\")\n",
    "#print(V)"
   ]
  },
  {
   "cell_type": "markdown",
   "metadata": {},
   "source": [
    "Setting SVD rank, removing singular values"
   ]
  },
  {
   "cell_type": "code",
   "execution_count": 72,
   "metadata": {
    "collapsed": true
   },
   "outputs": [],
   "source": [
    "s_rank = 12\n",
    "S = np.zeros(X.shape, dtype=complex)\n",
    "S[:s_rank, :s_rank] = np.diag(s)[:s_rank, :s_rank]\n",
    "\n",
    "X_SVD = np.dot(U, np.dot(S, V));\n",
    "X_SVD = np.real(X_SVD);"
   ]
  },
  {
   "cell_type": "markdown",
   "metadata": {},
   "source": [
    "### 2. Removing Specific Columns\n",
    "Use this to check whether the prediction gets better if some features are removed. The new data matrix is given by X_EDITED."
   ]
  },
  {
   "cell_type": "code",
   "execution_count": 73,
   "metadata": {
    "collapsed": true
   },
   "outputs": [],
   "source": [
    "# All columns = [0,1,2,3,4,5,6,7,8,9,10,11,12]\n",
    "\n",
    "used_columns = [1,6,10,11,12]\n",
    "X_EDITED = X[:, used_columns]"
   ]
  },
  {
   "cell_type": "markdown",
   "metadata": {},
   "source": [
    "### 3. KPCA / PCA\n",
    "We tested different kernels, the best was the linear one. So the KPCA is being used as PCA. Transformed data matrix is given by X_KPCA."
   ]
  },
  {
   "cell_type": "code",
   "execution_count": 74,
   "metadata": {},
   "outputs": [],
   "source": [
    "from sklearn.decomposition import KernelPCA\n",
    "\n",
    "kpca = KernelPCA(n_components=9, kernel='linear')\n",
    "X_KPCA = kpca.fit_transform(X)"
   ]
  },
  {
   "cell_type": "markdown",
   "metadata": {},
   "source": [
    "## SVM"
   ]
  },
  {
   "cell_type": "code",
   "execution_count": 75,
   "metadata": {
    "collapsed": true
   },
   "outputs": [],
   "source": [
    "from sklearn import svm\n",
    "\n",
    "#Penalty parameter C of the error term.\n",
    "Penalty_C = 1.0  # SVM regularization parameter"
   ]
  },
  {
   "cell_type": "markdown",
   "metadata": {},
   "source": [
    "#### Polynomial Kernel with degree 3"
   ]
  },
  {
   "cell_type": "code",
   "execution_count": 76,
   "metadata": {},
   "outputs": [
    {
     "name": "stdout",
     "output_type": "stream",
     "text": [
      "poly_svc 0.92138372893\n"
     ]
    }
   ],
   "source": [
    "poly_svc = svm.SVC(kernel='poly', degree=3, C=Penalty_C)\n",
    "accuracy_poly_svc = cross_val_score(poly_svc, X_KPCA, Y, cv=cross_val_k, scoring='accuracy').mean()\n",
    "print('poly_svc', accuracy_poly_svc)"
   ]
  },
  {
   "cell_type": "markdown",
   "metadata": {},
   "source": [
    "### Classification accuracy \n",
    "\n",
    "#### Using All features + cubic order kernel\n",
    "- poly_svc (degree=3) 0.899092707258\n",
    "\n",
    "#### Removing features:\n",
    "- feature 0 removed: 0.910898262814\n",
    "- feature 1 removed: 0.872301771586\n",
    "- feature 2 removed: 0.898800309598\n",
    "- feature 3 removed: 0.893829549364\n",
    "- feature 4 removed: 0.894523993808\n",
    "- feature 5 removed: 0.917107413141\n",
    "- feature 6 removed: 0.893244754042\n",
    "- feature 7 removed: 0.910898262814\n",
    "- feature 8 removed: 0.894523993808\n",
    "- feature 9 removed: 0.909911420709\n",
    "- feature 10 removed: 0.864445734434\n",
    "- feature 11 removed: 0.89342750258\n",
    "- feature 12 removed: 0.777631578947\n",
    "- features [5,7] or [5,0] removed: 0.917107413141\n",
    "\n",
    "\n",
    "- Using 1,6,10,11,12 -> 0.910238218094\n",
    "\n",
    "\n",
    "- Worst feature: 5\n",
    "- Best features: 12, 10, 1, 6, 11, 3\n",
    "\n",
    "#### KPCA and SVD:\n",
    "\n",
    "- PCA (KPCA with linear Kernel), using 9 components: 0.92138372893\n",
    "- X_SVD with 12 singularvalues: 0.910898262814 -> Same accuracy as removing feature 0 and/or feature 7.\n",
    " \n",
    " "
   ]
  },
  {
   "cell_type": "markdown",
   "metadata": {},
   "source": [
    "### SVM with different Kernels"
   ]
  },
  {
   "cell_type": "markdown",
   "metadata": {},
   "source": [
    "In general, the following Kernels resulted in a worse results than the Polynomial Kernel with degree 3"
   ]
  },
  {
   "cell_type": "markdown",
   "metadata": {},
   "source": [
    "#### Linear Kernel"
   ]
  },
  {
   "cell_type": "code",
   "execution_count": 77,
   "metadata": {},
   "outputs": [
    {
     "name": "stdout",
     "output_type": "stream",
     "text": [
      "svm linear kernel: 0.86477253182\n"
     ]
    }
   ],
   "source": [
    "# SVC with linear kernel\n",
    "svc = svm.SVC(kernel='linear', C=Penalty_C)\n",
    "accuracy_svc = cross_val_score(svc, X, Y, cv=cross_val_k, scoring='accuracy').mean()\n",
    "print('svm linear kernel:', accuracy_svc)"
   ]
  },
  {
   "cell_type": "markdown",
   "metadata": {},
   "source": [
    "#### RBF Kernel"
   ]
  },
  {
   "cell_type": "code",
   "execution_count": 78,
   "metadata": {},
   "outputs": [
    {
     "name": "stdout",
     "output_type": "stream",
     "text": [
      "rbf_svc 0.399253955968\n"
     ]
    }
   ],
   "source": [
    "rbf_svc = svm.SVC(kernel='rbf', gamma='auto', C=Penalty_C)\n",
    "accuracy_rbf_svc = cross_val_score(rbf_svc, X, Y, cv=cross_val_k, scoring='accuracy').mean()\n",
    "print('rbf_svc', accuracy_rbf_svc)"
   ]
  },
  {
   "cell_type": "markdown",
   "metadata": {},
   "source": [
    "#### Polynomial Kernel with degree 2"
   ]
  },
  {
   "cell_type": "code",
   "execution_count": 79,
   "metadata": {},
   "outputs": [
    {
     "name": "stdout",
     "output_type": "stream",
     "text": [
      "poly_svc 0.899092707258\n"
     ]
    }
   ],
   "source": [
    "poly_svc = svm.SVC(kernel='poly', degree=2, C=Penalty_C)\n",
    "accuracy_poly_svc = cross_val_score(poly_svc, X, Y, cv=cross_val_k, scoring='accuracy').mean()\n",
    "print('poly_svc', accuracy_poly_svc)"
   ]
  },
  {
   "cell_type": "markdown",
   "metadata": {},
   "source": [
    "##  Boosting"
   ]
  },
  {
   "cell_type": "markdown",
   "metadata": {},
   "source": [
    "The best classifier we tested was Boosting."
   ]
  },
  {
   "cell_type": "code",
   "execution_count": 62,
   "metadata": {},
   "outputs": [
    {
     "name": "stdout",
     "output_type": "stream",
     "text": [
      "boosting 0.971785775714\n"
     ]
    }
   ],
   "source": [
    "# Gradient Boosting\n",
    "from sklearn.ensemble import GradientBoostingClassifier\n",
    "\n",
    "model = GradientBoostingClassifier(n_estimators=50, learning_rate=1.0, max_depth=1, random_state=0)\n",
    "accuracy_boost = cross_val_score(model, X, Y, cv=cross_val_k, scoring='accuracy').mean()\n",
    "print('boosting', accuracy_boost)\n",
    "\n",
    "# AdaBoostClassifier - Worse\n",
    "# AdaBoostClassifier(svm.SVC(probability=True,kernel='linear'),n_estimators=50, learning_rate=1.0, algorithm='SAMME')"
   ]
  },
  {
   "cell_type": "markdown",
   "metadata": {},
   "source": [
    "### Classification accuracy \n",
    "\n",
    "* All features, n_estimators = 50\n",
    "\n",
    "0.971785775714\n",
    "\n",
    "* Removing feature 5\n",
    "\n",
    "0.971785775714\n",
    "\n",
    "* Removing features 5 and 7\n",
    "\n",
    "0.971785775714\n",
    "\n",
    "* Using only features [1,6,10,11,12]\n",
    "\n",
    "0.938050395597"
   ]
  },
  {
   "cell_type": "markdown",
   "metadata": {},
   "source": [
    "## KNN\n",
    "Algoritmo K-nearest neighbors"
   ]
  },
  {
   "cell_type": "code",
   "execution_count": 43,
   "metadata": {},
   "outputs": [
    {
     "name": "stdout",
     "output_type": "stream",
     "text": [
      "Best k =  3\n",
      "Score =  0.944668042656\n"
     ]
    }
   ],
   "source": [
    "from sklearn.neighbors import KNeighborsClassifier\n",
    "\n",
    "# Get best k.\n",
    "\n",
    "k_range = range(1,31)\n",
    "k_scores = []\n",
    "for k in k_range:\n",
    "    knn = KNeighborsClassifier(n_neighbors=k)\n",
    "    scores = cross_val_score(knn, X, Y, cv=cross_val_k, scoring='accuracy')\n",
    "    k_scores.append(scores.mean())\n",
    "#print(k_scores)\n",
    "max_score = max(k_scores)\n",
    "print(\"Best k = \" , (k_scores.index(max_score) + 1))\n",
    "print(\"Score = \" , (max_score ))\n"
   ]
  },
  {
   "cell_type": "code",
   "execution_count": 10,
   "metadata": {},
   "outputs": [
    {
     "data": {
      "text/plain": [
       "<matplotlib.text.Text at 0x10e4fea90>"
      ]
     },
     "execution_count": 10,
     "metadata": {},
     "output_type": "execute_result"
    },
    {
     "data": {
      "image/png": "[encoded data removed]",
      "text/plain": [
       "<matplotlib.figure.Figure at 0x10daa7908>"
      ]
     },
     "metadata": {},
     "output_type": "display_data"
    }
   ],
   "source": [
    "import matplotlib.pyplot as plt\n",
    "%matplotlib inline\n",
    "\n",
    "plt.plot(k_range, k_scores)\n",
    "plt.xlabel('Value of k for KNN')\n",
    "plt.ylabel('Cross-Validated Accuracy')"
   ]
  },
  {
   "cell_type": "markdown",
   "metadata": {},
   "source": [
    "### Classification accuracy \n",
    "\n",
    "* N=3\n",
    "\n",
    "0.944668042656\n",
    "\n",
    "* N=3, + SVD with 12 singular values (removing 1).\n",
    "\n",
    "0.950550395597\n",
    "\n",
    "* N=3, + Removing feature 5.\n",
    "\n",
    "0.955779153767\n",
    "\n",
    "* N=4, + Removing feature 5 and 7.\n",
    "\n",
    "0.956398348813"
   ]
  },
  {
   "cell_type": "markdown",
   "metadata": {},
   "source": [
    "## Decision Tree"
   ]
  },
  {
   "cell_type": "code",
   "execution_count": 48,
   "metadata": {},
   "outputs": [
    {
     "name": "stdout",
     "output_type": "stream",
     "text": [
      "Decision Tree:  0.858999828001\n"
     ]
    }
   ],
   "source": [
    "from sklearn import tree\n",
    "\n",
    "dec_tree = tree.DecisionTreeClassifier()\n",
    "accuracy_dec_tree = cross_val_score(dec_tree, X, Y, cv=cross_val_k, scoring='accuracy')\n",
    "print('Decision Tree: ', accuracy_dec_tree.mean())"
   ]
  },
  {
   "cell_type": "markdown",
   "metadata": {},
   "source": [
    "Decision Tree Accuracy: 0.858999828001"
   ]
  },
  {
   "cell_type": "code",
   "execution_count": null,
   "metadata": {
    "collapsed": true
   },
   "outputs": [],
   "source": []
  }
 ],
 "metadata": {
  "kernelspec": {
   "display_name": "Python 3",
   "language": "python",
   "name": "python3"
  },
  "language_info": {
   "codemirror_mode": {
    "name": "ipython",
    "version": 3
   },
   "file_extension": ".py",
   "mimetype": "text/x-python",
   "name": "python",
   "nbconvert_exporter": "python",
   "pygments_lexer": "ipython3",
   "version": "3.6.2"
  }
 },
 "nbformat": 4,
 "nbformat_minor": 2
}
